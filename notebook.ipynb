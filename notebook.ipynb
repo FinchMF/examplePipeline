{
 "cells": [
  {
   "cell_type": "code",
   "execution_count": 1,
   "metadata": {},
   "outputs": [],
   "source": [
    "from transformers import pipeline"
   ]
  },
  {
   "cell_type": "code",
   "execution_count": 3,
   "metadata": {},
   "outputs": [],
   "source": [
    "generator = pipeline('text-generation', model = 'gpt2')"
   ]
  },
  {
   "cell_type": "code",
   "execution_count": 6,
   "metadata": {},
   "outputs": [],
   "source": [
    "# practicing with a tweet\n",
    "seed_text = \"Under President Xi Jinping, Chinese authorities have pushed to purge society of elements deemed unhealthy, including within movies, television, computer games\""
   ]
  },
  {
   "cell_type": "code",
   "execution_count": 8,
   "metadata": {},
   "outputs": [
    {
     "name": "stderr",
     "output_type": "stream",
     "text": [
      "Setting `pad_token_id` to `eos_token_id`:50256 for open-end generation.\n"
     ]
    }
   ],
   "source": [
    "model_gen = generator(seed_text, max_length = 150, num_return_sequences=5)"
   ]
  },
  {
   "cell_type": "code",
   "execution_count": 12,
   "metadata": {},
   "outputs": [
    {
     "name": "stdout",
     "output_type": "stream",
     "text": [
      "#########\n",
      "Under President Xi Jinping, Chinese authorities have pushed to purge society of elements deemed unhealthy, including within movies, television, computer games, media, and entertainment.\n",
      "\n",
      "Chinese officials deny such a purge is a deliberate effort to drive the country away from social democratic ideals, but analysts say that government officials may have been under the impression that those who wish to be seen as unruly, violent, or mentally unstable still had to prove themselves before their purge went into effect.\n",
      "\n",
      "However, experts who have examined Communist Party policies argue that the purge is a result of a combination of bureaucratic gerrymandering, pressure tactics designed to win the votes of state governments, and an attempt to win public approval for actions, such as banning a company in one state\n",
      "\n",
      "\n",
      "#########\n",
      "Under President Xi Jinping, Chinese authorities have pushed to purge society of elements deemed unhealthy, including within movies, television, computer games and video games.\n",
      "\n",
      "\"Answering demand for political changes is important because of the political and cultural significance of what is happening in China.\" said Mr Cheng, who served as president of the Central Bank of China from 2010-2014. \"China needs to learn both how to be the leader of society and how to be the leaders, because these are core, global issues. But the challenge now is to develop a political process conducive to changing the attitudes of people in the society and not just as a game for a pawn or piece of dice.\"\n",
      "\n",
      "More than 100 Chinese academics from around the world were due to\n",
      "\n",
      "\n",
      "#########\n",
      "Under President Xi Jinping, Chinese authorities have pushed to purge society of elements deemed unhealthy, including within movies, television, computer games, and even \"soft\" media.\n",
      "\n",
      "The state-run People's Daily reported last week that state-run media stations had been \"targeting Chinese fans\" for making offensive \"propaganda images.\"\n",
      "\n",
      "A spokesperson for the Ministry of Foreign Affairs said more foreign media attention was being targeted by \"fake media\" or \"fake news websites.\"\n",
      "\n",
      "Yale's response to the ban\n",
      "\n",
      "Last November, the Chinese government banned international student-organizers at Yale from the university following reports about what they viewed as China's \"unacceptable propaganda tactics.\"\n",
      "\n",
      "In a blog post, the China Youth Commission\n",
      "\n",
      "\n",
      "#########\n",
      "Under President Xi Jinping, Chinese authorities have pushed to purge society of elements deemed unhealthy, including within movies, television, computer games, alcohol and even the internet.\n",
      "\n",
      "\"China has been watching 'Gangnam Style' with its own eyes and has started to do just that, especially at international level, of how to deal with these issues,\" Chobani said.\n",
      "\n",
      "The U.N. special rapporteur on human rights issues is also on Trump's agenda.\n",
      "\n",
      "\"We have been talking to China and we are working on that,\" she said. \"That has been a long time out there with what has happened with China, and we'll continue to be at the table.\"\n",
      "\n",
      "\n",
      "#########\n",
      "Under President Xi Jinping, Chinese authorities have pushed to purge society of elements deemed unhealthy, including within movies, television, computer games, entertainment media, and even books.\n",
      "\n",
      "The crackdown has been welcomed by critics of Chinese government and social law, some citing the need to boost the security of individual citizens who can find jobs abroad and take legal actions against those deemed corrupting state interests.\n",
      "\n",
      "On Wednesday, the ministry published a list of some 170 cases in which a government official was caught committing a \"severe act or omissions\" under the country's \"zero-tolerance\" anti-corruption law. A case described as \"gross negligence\" was investigated by the office of the deputy director of the Human Rights Commission of China.\n",
      "\n",
      "On\n",
      "\n",
      "\n"
     ]
    }
   ],
   "source": [
    "for gen in model_gen:\n",
    "\n",
    "    print('#########')\n",
    "    print(f'{gen[\"generated_text\"]}')\n",
    "    print('\\n')"
   ]
  },
  {
   "cell_type": "code",
   "execution_count": 9,
   "metadata": {},
   "outputs": [],
   "source": [
    "# Begin adding in the use of different text files ie Baudrillard and Politicians -- \n",
    "# then see to what degree should we fine tune as well as set up a docker container for gpt as needed. \n",
    "# Check if this will go in the model store. \n",
    "# then deconstruct TwitterRitual so components are more easily adjustable. \n",
    "# Check if Docker will be more useful here. "
   ]
  }
 ],
 "metadata": {
  "interpreter": {
   "hash": "66769ba9d6bd15c19542b3b00c7e078b8bd85fe1e46ac3358936626f505b2fe0"
  },
  "kernelspec": {
   "display_name": "Python 3.9.7 64-bit ('env': venv)",
   "language": "python",
   "name": "python3"
  },
  "language_info": {
   "codemirror_mode": {
    "name": "ipython",
    "version": 3
   },
   "file_extension": ".py",
   "mimetype": "text/x-python",
   "name": "python",
   "nbconvert_exporter": "python",
   "pygments_lexer": "ipython3",
   "version": "3.9.7"
  },
  "orig_nbformat": 4
 },
 "nbformat": 4,
 "nbformat_minor": 2
}
