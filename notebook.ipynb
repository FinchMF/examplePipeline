{
 "cells": [
  {
   "cell_type": "code",
   "execution_count": 1,
   "metadata": {},
   "outputs": [],
   "source": [
    "from transformers import pipeline"
   ]
  },
  {
   "cell_type": "code",
   "execution_count": 3,
   "metadata": {},
   "outputs": [],
   "source": [
    "generator = pipeline('text-generation', model = 'gpt2')"
   ]
  },
  {
   "cell_type": "code",
   "execution_count": 5,
   "metadata": {},
   "outputs": [
    {
     "name": "stderr",
     "output_type": "stream",
     "text": [
      "Setting `pad_token_id` to `eos_token_id`:50256 for open-end generation.\n"
     ]
    },
    {
     "data": {
      "text/plain": [
       "[{'generated_text': 'Hello, I am Baudrillard\\'s secretary. I feel like you are the best person working here,\" she says.\\n\\nShe says, \"You are not always going to succeed. You will always lose or never win this job.\"\\n\\nShe tells me that she is always looking for new people. Not many. But with those who come in, she says that is what they deserve.\\n\\nAnd one of them is a former student of mine who has had to wait for so long on the verge of a career as an economist with great skills. He has been making hundreds of thousands of dollars a year in retail trade. He was an organizer, an organizer against the privatization of the energy sector and a big proponent of free trade'},\n",
       " {'generated_text': \"Hello, I am Baudrillard, a writer with whom I have lived in Paris for more than twenty years, with some wonderful success, and with the hope of becoming a great editor in every magazine and now a very good writer in another. I am from Switzerland and come to Paris occasionally, on a few business trips at times, to give you my opinion. The thing is that in Paris it is my pleasure to speak to the people in Paris. I feel myself obliged to do this, because you won't get me there if you don't want to. I know to live and work and not to take your word for it if you want to. There are so many things I would like to talk about with you. You have heard\"},\n",
       " {'generated_text': \"Hello, I am Baudrillard, Minister of Culture and the Interior Minister. Mr. Pimlott has just returned from Switzerland, where he is the Chairman of the Board of the Swiss National Bank.\\n\\nYou have to take into account these concerns that there are still a good part of the Jewish community still living in poverty in the Swiss franc zone where Mr. Pimlott came to Switzerland to deal with his Jewish clientele. Mr. Pimlott's approach could potentially reduce such an area by tens of millions of dollars.\\n\\nAnd your clientele will likely be the same way. All that goes down to this, first of all, what do you think Mr. Pimlott has to say to\"},\n",
       " {'generated_text': \"Hello, I am Baudrillard. Today's game is a celebration of the game I played so many years ago. I will keep you posted as they are and if you decide to play it again please bring your copy to the table so we can have a nice day.\\n\\nIf you have played the game and would like to give us your opinion on the rules, do not hesitate to send us a link and we will consider it. I just want to know how many players will be present at the game.\\n\\nPlease also keep in mind that the rules and the rules for the game are in a very early state and in most cases we have to do our best to not make mistakes due to too much work to learn.\\n\"},\n",
       " {'generated_text': 'Hello, I am Baudrillard.\\n\\n\"Fufufufuruh?\"\\n\\nA hand comes around that opens and touches something, a piece of glass. In a few moments the sound disappears once.\\n\\n\"Hm? Really? Is that what this thing is?\\n\\n\"Agh! And you\\'re just like a human!? How could a person know that you are my friend!?\\n\\n\"Hey, Baudrillard!\"\\n\\nI can\\'t believe it. This is the first time my best friend has found me! I don\\'t know what to do when my other friend comes and I\\'m not able to get in touch anymore……, what\\'s going on!?\\n\\n\"Sorry, I'}]"
      ]
     },
     "execution_count": 5,
     "metadata": {},
     "output_type": "execute_result"
    }
   ],
   "source": [
    "generator(\"Hello, I am Baudrillard\", max_length = 150, num_return_sequences=5)"
   ]
  },
  {
   "cell_type": "code",
   "execution_count": null,
   "metadata": {},
   "outputs": [],
   "source": []
  }
 ],
 "metadata": {
  "interpreter": {
   "hash": "66769ba9d6bd15c19542b3b00c7e078b8bd85fe1e46ac3358936626f505b2fe0"
  },
  "kernelspec": {
   "display_name": "Python 3.9.7 64-bit ('env': venv)",
   "language": "python",
   "name": "python3"
  },
  "language_info": {
   "codemirror_mode": {
    "name": "ipython",
    "version": 3
   },
   "file_extension": ".py",
   "mimetype": "text/x-python",
   "name": "python",
   "nbconvert_exporter": "python",
   "pygments_lexer": "ipython3",
   "version": "3.9.7"
  },
  "orig_nbformat": 4
 },
 "nbformat": 4,
 "nbformat_minor": 2
}
