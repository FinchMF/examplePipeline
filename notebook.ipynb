{
 "cells": [
  {
   "cell_type": "code",
   "execution_count": 1,
   "metadata": {},
   "outputs": [],
   "source": [
    "from transformers import pipeline"
   ]
  },
  {
   "cell_type": "code",
   "execution_count": 3,
   "metadata": {},
   "outputs": [],
   "source": [
    "generator = pipeline('text-generation', model = 'gpt2')"
   ]
  },
  {
   "cell_type": "code",
   "execution_count": 6,
   "metadata": {},
   "outputs": [],
   "source": [
    "# practicing with a tweet\n",
    "seed_text = \"Under President Xi Jinping, Chinese authorities have pushed to purge society of elements deemed unhealthy, including within movies, television, computer games\""
   ]
  },
  {
   "cell_type": "code",
   "execution_count": 7,
   "metadata": {},
   "outputs": [
    {
     "name": "stderr",
     "output_type": "stream",
     "text": [
      "Setting `pad_token_id` to `eos_token_id`:50256 for open-end generation.\n"
     ]
    },
    {
     "data": {
      "text/plain": [
       "[{'generated_text': 'Under President Xi Jinping, Chinese authorities have pushed to purge society of elements deemed unhealthy, including within movies, television, computer games or sports.\\n\\nAn investigation by the New York Times, based on data from the National Security Archive, estimated at least 50 million \"insidious\" films from the first decade of the 20th Century in China have been banned from the country.\\n\\nAccording to the Times, the ban stems on the suspicion that many Chinese people have not given the official version of history a fair examination.\\n\\nAn analysis by the Center for the Study of Contemporary Chinese Studies, which promotes Chinese cultural and linguistic exchange, found at least one example that was suppressed while still being under scrutiny, including the \"unconscious\" depictions in \"'},\n",
       " {'generated_text': 'Under President Xi Jinping, Chinese authorities have pushed to purge society of elements deemed unhealthy, including within movies, television, computer games and art.\\n\\n\"There are currently some people who are doing a lot of harm,\" said the former head of information and management.\\n\\n\"Some of these people are also going to make things much worse. They are going to get less opportunities for work and, more importantly, less opportunities for people. This is not good for public health.\"\\n\\nThe state media said the purge could take several years, and that its aim would be to bring down the internet. It has denied any attempts to control Chinese culture.\\n\\nThe president, whose government has vowed to reduce the internet by 20 per cent between now'},\n",
       " {'generated_text': 'Under President Xi Jinping, Chinese authorities have pushed to purge society of elements deemed unhealthy, including within movies, television, computer games and video games.\\n\\n\\nAs the years pass, as the crackdown on dissent continues, the Chinese Communist Party, under the leadership of former President Hu Jintao, has become more authoritarian.\\n\\nChina has sought to keep the country away from its friends and critics on both sides, and through its media, social networking services and public spaces. In April 2013, as tensions between the ruling Communist Party and Beijing escalated, the government closed off many government websites, forcing many online users to shut down.\\n\\nThe government is now trying to reverse some of the gains made in 2014. While the new administration says the move'},\n",
       " {'generated_text': \"Under President Xi Jinping, Chinese authorities have pushed to purge society of elements deemed unhealthy, including within movies, television, computer games and video games.[26] In March of 2012, the United States Senate confirmed the U.S. Ambassador to China to be charged with crimes of corruption. Since then, the United States has taken over China's most dangerous and secretive business, the Internet, under a plan by the State Department to replace its old guard as the new authorities. The effort was criticized by China's Internet watchdog, the People's Daily,[27] particularly after it alleged that the new regime was in danger of losing influence due to an apparent crackdown on dissent.[28] Last November, the Federal Court of Justice on the U.S.-China\"},\n",
       " {'generated_text': 'Under President Xi Jinping, Chinese authorities have pushed to purge society of elements deemed unhealthy, including within movies, television, computer games, music, and food.\\n\\nLast year, the government announced a crackdown on political dissent, including bloggers\\' \"freedom to be offended\" or \"free expression,\" a crackdown that may leave many of these groups subject to further sanctions. It also plans to impose new taxes on internet service providers.\\n\\nThe crackdown, which includes some 1,000 new tax credits and a more extensive crackdown on the internet for companies deemed to use illegal or illegal content, will be effective in early September.\\n\\nThe first half of the year saw some 1.6 million citizens and 738,000 foreigners affected by the crackdown on'}]"
      ]
     },
     "execution_count": 7,
     "metadata": {},
     "output_type": "execute_result"
    }
   ],
   "source": [
    "generator(seed_text, max_length = 150, num_return_sequences=5)"
   ]
  },
  {
   "cell_type": "markdown",
   "metadata": {},
   "source": [
    "Begin adding in the use of different text files ie Baudrillard and Politicians -- then see to what degree should we fine tune as well as set up a docker container for gpt as needed. Check if this will go in the model store. then deconstruct TwitterRitual so components are more easily adjustable. Check if Docker will be more useful here. "
   ]
  },
  {
   "cell_type": "code",
   "execution_count": null,
   "metadata": {},
   "outputs": [],
   "source": []
  }
 ],
 "metadata": {
  "interpreter": {
   "hash": "66769ba9d6bd15c19542b3b00c7e078b8bd85fe1e46ac3358936626f505b2fe0"
  },
  "kernelspec": {
   "display_name": "Python 3.9.7 64-bit ('env': venv)",
   "language": "python",
   "name": "python3"
  },
  "language_info": {
   "codemirror_mode": {
    "name": "ipython",
    "version": 3
   },
   "file_extension": ".py",
   "mimetype": "text/x-python",
   "name": "python",
   "nbconvert_exporter": "python",
   "pygments_lexer": "ipython3",
   "version": "3.9.7"
  },
  "orig_nbformat": 4
 },
 "nbformat": 4,
 "nbformat_minor": 2
}
